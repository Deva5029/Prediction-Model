{
 "cells": [
  {
   "cell_type": "code",
   "execution_count": 5,
   "id": "d66531e6",
   "metadata": {},
   "outputs": [],
   "source": [
    "import numpy as np"
   ]
  },
  {
   "cell_type": "code",
   "execution_count": 4,
   "id": "2a5d8ea3",
   "metadata": {},
   "outputs": [],
   "source": [
    "#assign input values"
   ]
  },
  {
   "cell_type": "code",
   "execution_count": 25,
   "id": "e8a68c96",
   "metadata": {},
   "outputs": [
    {
     "data": {
      "text/plain": [
       "array([[0, 0],\n",
       "       [0, 1],\n",
       "       [1, 1],\n",
       "       [1, 0]])"
      ]
     },
     "execution_count": 25,
     "metadata": {},
     "output_type": "execute_result"
    }
   ],
   "source": [
    "input_value = np.array([[0,0], [0,1],[1,1],[1,0]])\n",
    "input_value.shape\n",
    "input_value"
   ]
  },
  {
   "cell_type": "code",
   "execution_count": 26,
   "id": "f88d0779",
   "metadata": {},
   "outputs": [],
   "source": [
    "#assign output values"
   ]
  },
  {
   "cell_type": "code",
   "execution_count": 27,
   "id": "c8429f02",
   "metadata": {},
   "outputs": [
    {
     "data": {
      "text/plain": [
       "(4, 1)"
      ]
     },
     "execution_count": 27,
     "metadata": {},
     "output_type": "execute_result"
    }
   ],
   "source": [
    "output = np.array([0,1,1,0])\n",
    "output = output.reshape(4,1)\n",
    "output.shape"
   ]
  },
  {
   "cell_type": "code",
   "execution_count": 28,
   "id": "0eb27608",
   "metadata": {},
   "outputs": [],
   "source": [
    "#assign weights"
   ]
  },
  {
   "cell_type": "code",
   "execution_count": 29,
   "id": "c17ca548",
   "metadata": {},
   "outputs": [
    {
     "data": {
      "text/plain": [
       "array([[0.1],\n",
       "       [0.2]])"
      ]
     },
     "execution_count": 29,
     "metadata": {},
     "output_type": "execute_result"
    }
   ],
   "source": [
    "weights = np.array([[0.1], [0.2]])\n",
    "weights"
   ]
  },
  {
   "cell_type": "code",
   "execution_count": 30,
   "id": "2e519fe5",
   "metadata": {},
   "outputs": [],
   "source": [
    "#add bias"
   ]
  },
  {
   "cell_type": "code",
   "execution_count": 31,
   "id": "6e57bedf",
   "metadata": {},
   "outputs": [],
   "source": [
    "bias = 0.3"
   ]
  },
  {
   "cell_type": "code",
   "execution_count": 32,
   "id": "8fc25f17",
   "metadata": {},
   "outputs": [],
   "source": [
    "#activation function"
   ]
  },
  {
   "cell_type": "code",
   "execution_count": 33,
   "id": "efac0df2",
   "metadata": {},
   "outputs": [],
   "source": [
    "def sigmoid_func(x):\n",
    "    return 1/(1 + np.exp(-x))"
   ]
  },
  {
   "cell_type": "code",
   "execution_count": 34,
   "id": "a3e39945",
   "metadata": {},
   "outputs": [],
   "source": [
    "#derivative of sigmoid function"
   ]
  },
  {
   "cell_type": "code",
   "execution_count": 35,
   "id": "f97ef8c8",
   "metadata": {},
   "outputs": [],
   "source": [
    "def der(x):\n",
    "    return sigmoid_func(x) * (1- sigmoid_func(x))"
   ]
  },
  {
   "cell_type": "code",
   "execution_count": 36,
   "id": "8e8070ad",
   "metadata": {},
   "outputs": [],
   "source": [
    "#updating weights"
   ]
  },
  {
   "cell_type": "code",
   "execution_count": 37,
   "id": "2fd89420",
   "metadata": {},
   "outputs": [
    {
     "name": "stderr",
     "output_type": "stream",
     "text": [
      "C:\\Users\\Student\\AppData\\Local\\Temp\\ipykernel_12688\\314844799.py:2: RuntimeWarning: overflow encountered in exp\n",
      "  return 1/(1 + np.exp(-x))\n"
     ]
    },
    {
     "name": "stdout",
     "output_type": "stream",
     "text": [
      "[[124.96150963]\n",
      " [250.04776939]]\n",
      "-1999.699999998729\n"
     ]
    }
   ],
   "source": [
    "for epochs in range(10000):\n",
    "    input_arr = input_value\n",
    "    \n",
    "    weighted_sum = np.dot(input_arr, weights) + bias\n",
    "    first_output = sigmoid_func(weighted_sum)\n",
    "    \n",
    "    error = first_output - output\n",
    "    total_error = np.square(np.subtract(first_output,output)).mean()\n",
    "    #print(total_error)\n",
    "    \n",
    "    first_der = error\n",
    "    second_der = der(first_output)\n",
    "    derivative = first_der * second_der\n",
    "    \n",
    "    t_input = input_value.T\n",
    "    final_derivative = np.dot(t_input, derivative)\n",
    "    \n",
    "    #update weights\n",
    "    weights = weights - 0.05 * final_derivative\n",
    "    \n",
    "    #update bias\n",
    "    for i in derivative:\n",
    "        bias = bias - 0.05 * 1\n",
    "\n",
    "print(weights)\n",
    "print(bias)"
   ]
  },
  {
   "cell_type": "code",
   "execution_count": 38,
   "id": "e76f8066",
   "metadata": {},
   "outputs": [],
   "source": [
    "# predictions"
   ]
  },
  {
   "cell_type": "code",
   "execution_count": 40,
   "id": "6bc85965",
   "metadata": {},
   "outputs": [
    {
     "name": "stdout",
     "output_type": "stream",
     "text": [
      "[0.]\n"
     ]
    },
    {
     "name": "stderr",
     "output_type": "stream",
     "text": [
      "C:\\Users\\Student\\AppData\\Local\\Temp\\ipykernel_12688\\314844799.py:2: RuntimeWarning: overflow encountered in exp\n",
      "  return 1/(1 + np.exp(-x))\n"
     ]
    }
   ],
   "source": [
    "pred = np.array([1,0])\n",
    "result = np.dot(pred, weights) + bias\n",
    "res = sigmoid_func(result)\n",
    "print(res)"
   ]
  },
  {
   "cell_type": "code",
   "execution_count": null,
   "id": "dbe0c068",
   "metadata": {},
   "outputs": [],
   "source": []
  }
 ],
 "metadata": {
  "kernelspec": {
   "display_name": "Python 3 (ipykernel)",
   "language": "python",
   "name": "python3"
  },
  "language_info": {
   "codemirror_mode": {
    "name": "ipython",
    "version": 3
   },
   "file_extension": ".py",
   "mimetype": "text/x-python",
   "name": "python",
   "nbconvert_exporter": "python",
   "pygments_lexer": "ipython3",
   "version": "3.10.8"
  }
 },
 "nbformat": 4,
 "nbformat_minor": 5
}

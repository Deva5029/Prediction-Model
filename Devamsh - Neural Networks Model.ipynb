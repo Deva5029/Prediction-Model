{
 "cells": [
  {
   "cell_type": "markdown",
   "id": "caa33f36",
   "metadata": {},
   "source": [
    "## Import / Install Libraries"
   ]
  },
  {
   "cell_type": "code",
   "execution_count": 1,
   "id": "031dab30",
   "metadata": {},
   "outputs": [],
   "source": [
    "import pandas as pd"
   ]
  },
  {
   "cell_type": "code",
   "execution_count": 2,
   "id": "d13577b8",
   "metadata": {},
   "outputs": [],
   "source": [
    "import tensorflow as tf "
   ]
  },
  {
   "cell_type": "code",
   "execution_count": 3,
   "id": "95ff3c08",
   "metadata": {},
   "outputs": [
    {
     "name": "stdout",
     "output_type": "stream",
     "text": [
      "Requirement already satisfied: keras in c:\\users\\student\\appdata\\local\\programs\\python\\python310\\lib\\site-packages (2.11.0)\n"
     ]
    }
   ],
   "source": [
    "!pip install keras "
   ]
  },
  {
   "cell_type": "code",
   "execution_count": 4,
   "id": "d76d0243",
   "metadata": {},
   "outputs": [],
   "source": [
    "from sklearn.preprocessing import MinMaxScaler"
   ]
  },
  {
   "cell_type": "code",
   "execution_count": 5,
   "id": "38852605",
   "metadata": {},
   "outputs": [],
   "source": [
    "from sklearn.model_selection import train_test_split"
   ]
  },
  {
   "cell_type": "code",
   "execution_count": 6,
   "id": "850af87b",
   "metadata": {},
   "outputs": [],
   "source": [
    "from keras import models\n",
    "from keras import layers"
   ]
  },
  {
   "cell_type": "code",
   "execution_count": 7,
   "id": "36d71ca8",
   "metadata": {},
   "outputs": [],
   "source": [
    "from keras.layers import Dropout\n",
    "from keras import regularizers\n",
    "from keras.layers import Activation, Dense"
   ]
  },
  {
   "cell_type": "code",
   "execution_count": 8,
   "id": "194bc80f",
   "metadata": {},
   "outputs": [],
   "source": [
    "from sklearn.metrics import mean_squared_error"
   ]
  },
  {
   "cell_type": "code",
   "execution_count": 9,
   "id": "57e32485",
   "metadata": {},
   "outputs": [],
   "source": [
    "from sklearn.metrics import r2_score"
   ]
  },
  {
   "cell_type": "code",
   "execution_count": 10,
   "id": "45613c10",
   "metadata": {},
   "outputs": [],
   "source": [
    "from matplotlib import pyplot as plt"
   ]
  },
  {
   "cell_type": "code",
   "execution_count": 11,
   "id": "84dcae6e",
   "metadata": {},
   "outputs": [],
   "source": [
    "from keras.models import load_model"
   ]
  },
  {
   "cell_type": "markdown",
   "id": "35188d8d",
   "metadata": {},
   "source": [
    "## Reading the Dataset"
   ]
  },
  {
   "cell_type": "code",
   "execution_count": 12,
   "id": "dc02e34a",
   "metadata": {},
   "outputs": [],
   "source": [
    "df = pd.read_csv('C:/Users/Student/Documents/Devamsh/DM/Project/finaldata.csv')"
   ]
  },
  {
   "cell_type": "code",
   "execution_count": 13,
   "id": "4dff6666",
   "metadata": {},
   "outputs": [
    {
     "data": {
      "text/html": [
       "<div>\n",
       "<style scoped>\n",
       "    .dataframe tbody tr th:only-of-type {\n",
       "        vertical-align: middle;\n",
       "    }\n",
       "\n",
       "    .dataframe tbody tr th {\n",
       "        vertical-align: top;\n",
       "    }\n",
       "\n",
       "    .dataframe thead th {\n",
       "        text-align: right;\n",
       "    }\n",
       "</style>\n",
       "<table border=\"1\" class=\"dataframe\">\n",
       "  <thead>\n",
       "    <tr style=\"text-align: right;\">\n",
       "      <th></th>\n",
       "      <th>fuel</th>\n",
       "      <th>gear</th>\n",
       "      <th>hp</th>\n",
       "      <th>year</th>\n",
       "      <th>mileage</th>\n",
       "      <th>price</th>\n",
       "    </tr>\n",
       "  </thead>\n",
       "  <tbody>\n",
       "    <tr>\n",
       "      <th>0</th>\n",
       "      <td>2</td>\n",
       "      <td>0</td>\n",
       "      <td>116</td>\n",
       "      <td>2011</td>\n",
       "      <td>235000</td>\n",
       "      <td>6800</td>\n",
       "    </tr>\n",
       "    <tr>\n",
       "      <th>1</th>\n",
       "      <td>0</td>\n",
       "      <td>0</td>\n",
       "      <td>122</td>\n",
       "      <td>2011</td>\n",
       "      <td>92800</td>\n",
       "      <td>6877</td>\n",
       "    </tr>\n",
       "    <tr>\n",
       "      <th>2</th>\n",
       "      <td>0</td>\n",
       "      <td>0</td>\n",
       "      <td>160</td>\n",
       "      <td>2011</td>\n",
       "      <td>149300</td>\n",
       "      <td>6900</td>\n",
       "    </tr>\n",
       "    <tr>\n",
       "      <th>3</th>\n",
       "      <td>0</td>\n",
       "      <td>0</td>\n",
       "      <td>110</td>\n",
       "      <td>2011</td>\n",
       "      <td>96200</td>\n",
       "      <td>6950</td>\n",
       "    </tr>\n",
       "    <tr>\n",
       "      <th>4</th>\n",
       "      <td>0</td>\n",
       "      <td>0</td>\n",
       "      <td>156</td>\n",
       "      <td>2011</td>\n",
       "      <td>156000</td>\n",
       "      <td>6950</td>\n",
       "    </tr>\n",
       "    <tr>\n",
       "      <th>...</th>\n",
       "      <td>...</td>\n",
       "      <td>...</td>\n",
       "      <td>...</td>\n",
       "      <td>...</td>\n",
       "      <td>...</td>\n",
       "      <td>...</td>\n",
       "    </tr>\n",
       "    <tr>\n",
       "      <th>48588</th>\n",
       "      <td>0</td>\n",
       "      <td>0</td>\n",
       "      <td>133</td>\n",
       "      <td>2019</td>\n",
       "      <td>23609</td>\n",
       "      <td>7800</td>\n",
       "    </tr>\n",
       "    <tr>\n",
       "      <th>48589</th>\n",
       "      <td>0</td>\n",
       "      <td>0</td>\n",
       "      <td>133</td>\n",
       "      <td>2018</td>\n",
       "      <td>34553</td>\n",
       "      <td>9200</td>\n",
       "    </tr>\n",
       "    <tr>\n",
       "      <th>48590</th>\n",
       "      <td>0</td>\n",
       "      <td>0</td>\n",
       "      <td>133</td>\n",
       "      <td>2018</td>\n",
       "      <td>31594</td>\n",
       "      <td>9200</td>\n",
       "    </tr>\n",
       "    <tr>\n",
       "      <th>48591</th>\n",
       "      <td>0</td>\n",
       "      <td>0</td>\n",
       "      <td>133</td>\n",
       "      <td>2018</td>\n",
       "      <td>32557</td>\n",
       "      <td>9200</td>\n",
       "    </tr>\n",
       "    <tr>\n",
       "      <th>48592</th>\n",
       "      <td>0</td>\n",
       "      <td>0</td>\n",
       "      <td>133</td>\n",
       "      <td>2018</td>\n",
       "      <td>31371</td>\n",
       "      <td>9200</td>\n",
       "    </tr>\n",
       "  </tbody>\n",
       "</table>\n",
       "<p>48593 rows × 6 columns</p>\n",
       "</div>"
      ],
      "text/plain": [
       "       fuel  gear   hp  year  mileage  price\n",
       "0         2     0  116  2011   235000   6800\n",
       "1         0     0  122  2011    92800   6877\n",
       "2         0     0  160  2011   149300   6900\n",
       "3         0     0  110  2011    96200   6950\n",
       "4         0     0  156  2011   156000   6950\n",
       "...     ...   ...  ...   ...      ...    ...\n",
       "48588     0     0  133  2019    23609   7800\n",
       "48589     0     0  133  2018    34553   9200\n",
       "48590     0     0  133  2018    31594   9200\n",
       "48591     0     0  133  2018    32557   9200\n",
       "48592     0     0  133  2018    31371   9200\n",
       "\n",
       "[48593 rows x 6 columns]"
      ]
     },
     "execution_count": 13,
     "metadata": {},
     "output_type": "execute_result"
    }
   ],
   "source": [
    "df"
   ]
  },
  {
   "cell_type": "markdown",
   "id": "30eb08e4",
   "metadata": {},
   "source": [
    "## Removing Decimal Values"
   ]
  },
  {
   "cell_type": "code",
   "execution_count": 14,
   "id": "96ff7226",
   "metadata": {},
   "outputs": [],
   "source": [
    "df['mileage'] = df['mileage'].astype(str).apply(lambda x: x.replace('.0',''))\n",
    "df['gear'] = df['gear'].astype(str).apply(lambda x: x.replace('.0',''))\n",
    "df['fuel'] = df['fuel'].astype(str).apply(lambda x: x.replace('.0',''))"
   ]
  },
  {
   "cell_type": "markdown",
   "id": "b7f89969",
   "metadata": {},
   "source": [
    "## Checking Data Types"
   ]
  },
  {
   "cell_type": "code",
   "execution_count": 15,
   "id": "a8e93f16",
   "metadata": {},
   "outputs": [
    {
     "name": "stdout",
     "output_type": "stream",
     "text": [
      "fuel       object\n",
      "gear       object\n",
      "hp          int64\n",
      "year        int64\n",
      "mileage    object\n",
      "price       int64\n",
      "dtype: object\n"
     ]
    }
   ],
   "source": [
    "print(df.dtypes)"
   ]
  },
  {
   "cell_type": "markdown",
   "id": "aee42458",
   "metadata": {},
   "source": [
    "## Data Information "
   ]
  },
  {
   "cell_type": "code",
   "execution_count": 16,
   "id": "b08e333a",
   "metadata": {},
   "outputs": [
    {
     "data": {
      "text/plain": [
       "<bound method DataFrame.info of       fuel gear   hp  year mileage  price\n",
       "0        2    0  116  2011  235000   6800\n",
       "1        0    0  122  2011   92800   6877\n",
       "2        0    0  160  2011  149300   6900\n",
       "3        0    0  110  2011   96200   6950\n",
       "4        0    0  156  2011  156000   6950\n",
       "...    ...  ...  ...   ...     ...    ...\n",
       "48588    0    0  133  2019   23609   7800\n",
       "48589    0    0  133  2018   34553   9200\n",
       "48590    0    0  133  2018   31594   9200\n",
       "48591    0    0  133  2018   32557   9200\n",
       "48592    0    0  133  2018   31371   9200\n",
       "\n",
       "[48593 rows x 6 columns]>"
      ]
     },
     "execution_count": 16,
     "metadata": {},
     "output_type": "execute_result"
    }
   ],
   "source": [
    "df.info"
   ]
  },
  {
   "cell_type": "markdown",
   "id": "4a3a4300",
   "metadata": {},
   "source": [
    "## Classifying dataframe into Numeric and Target Columns:"
   ]
  },
  {
   "cell_type": "code",
   "execution_count": 17,
   "id": "6baeb807",
   "metadata": {},
   "outputs": [],
   "source": [
    "target_columns = ['price']\n",
    "numeric_columns = ['mileage', 'year', 'hp','fuel','gear']"
   ]
  },
  {
   "cell_type": "markdown",
   "id": "6cea6c34",
   "metadata": {},
   "source": [
    "## Calculating Average Price"
   ]
  },
  {
   "cell_type": "code",
   "execution_count": 18,
   "id": "745dc90f",
   "metadata": {},
   "outputs": [
    {
     "name": "stdout",
     "output_type": "stream",
     "text": [
      "Average price is $16735.84\n"
     ]
    }
   ],
   "source": [
    "average_price = df['price'].mean()\n",
    "print('Average price is ${:.2f}'.format(average_price))"
   ]
  },
  {
   "cell_type": "markdown",
   "id": "6e078a8a",
   "metadata": {},
   "source": [
    "## Spliting dataframe into Training, Testing and Validation Data."
   ]
  },
  {
   "cell_type": "code",
   "execution_count": 19,
   "id": "acf30939",
   "metadata": {},
   "outputs": [],
   "source": [
    "training_validation_data, testing_data = train_test_split(df, test_size = 0.2)\n",
    "training_data, validation_data = train_test_split(training_validation_data, test_size = 0.5)"
   ]
  },
  {
   "cell_type": "markdown",
   "id": "134436e0",
   "metadata": {},
   "source": [
    "## Viewing Size of each data"
   ]
  },
  {
   "cell_type": "code",
   "execution_count": 20,
   "id": "96117976",
   "metadata": {},
   "outputs": [
    {
     "name": "stdout",
     "output_type": "stream",
     "text": [
      "(38874, 6) (19437, 6) (9719, 6) (19437, 6)\n"
     ]
    }
   ],
   "source": [
    "print(training_validation_data.shape, validation_data.shape, testing_data.shape, training_data.shape)"
   ]
  },
  {
   "cell_type": "markdown",
   "id": "2b44b4d8",
   "metadata": {},
   "source": [
    "## Normalizing the Numeric Input Data"
   ]
  },
  {
   "cell_type": "code",
   "execution_count": 21,
   "id": "030f0f82",
   "metadata": {},
   "outputs": [],
   "source": [
    "scaler = MinMaxScaler()\n",
    "scaler.fit(df[numeric_columns])\n",
    "training_data[numeric_columns] = scaler.transform(training_data[numeric_columns])\n",
    "testing_data[numeric_columns] = scaler.transform(testing_data[numeric_columns])\n",
    "validation_data[numeric_columns] = scaler.transform(validation_data[numeric_columns])"
   ]
  },
  {
   "cell_type": "markdown",
   "id": "bc5db690",
   "metadata": {},
   "source": [
    "## Creating Input and Output Data:"
   ]
  },
  {
   "cell_type": "code",
   "execution_count": 22,
   "id": "478163fe",
   "metadata": {},
   "outputs": [],
   "source": [
    "training_inputs = training_data[numeric_columns]\n",
    "testing_inputs = testing_data[numeric_columns]\n",
    "validation_inputs = validation_data[numeric_columns]\n",
    "\n",
    "training_outputs = training_data[target_columns]\n",
    "testing_outputs = testing_data[target_columns]\n",
    "validation_outputs = validation_data[target_columns]"
   ]
  },
  {
   "cell_type": "markdown",
   "id": "c6f4659b",
   "metadata": {},
   "source": [
    "# Neural Network Model:\n",
    "\n",
    "#### Below cell will run faster if GPU is activated."
   ]
  },
  {
   "cell_type": "code",
   "execution_count": 23,
   "id": "b5587791",
   "metadata": {
    "scrolled": false
   },
   "outputs": [
    {
     "name": "stdout",
     "output_type": "stream",
     "text": [
      "Epoch 1/50\n",
      "152/152 [==============================] - 2s 7ms/step - loss: 490495968.0000 - root_mean_squared_error: 22147.1445 - val_loss: 324745696.0000 - val_root_mean_squared_error: 18020.7012\n",
      "Epoch 2/50\n",
      "152/152 [==============================] - 1s 5ms/step - loss: 289391744.0000 - root_mean_squared_error: 17011.5176 - val_loss: 294897024.0000 - val_root_mean_squared_error: 17172.5664\n",
      "Epoch 3/50\n",
      "152/152 [==============================] - 1s 5ms/step - loss: 264682064.0000 - root_mean_squared_error: 16269.0527 - val_loss: 267105296.0000 - val_root_mean_squared_error: 16343.3564\n",
      "Epoch 4/50\n",
      "152/152 [==============================] - 1s 5ms/step - loss: 223586544.0000 - root_mean_squared_error: 14952.8105 - val_loss: 212918800.0000 - val_root_mean_squared_error: 14591.7373\n",
      "Epoch 5/50\n",
      "152/152 [==============================] - 1s 6ms/step - loss: 171256832.0000 - root_mean_squared_error: 13086.5117 - val_loss: 150467744.0000 - val_root_mean_squared_error: 12266.5283\n",
      "Epoch 6/50\n",
      "152/152 [==============================] - 1s 6ms/step - loss: 133467888.0000 - root_mean_squared_error: 11552.8301 - val_loss: 136291648.0000 - val_root_mean_squared_error: 11674.4014\n",
      "Epoch 7/50\n",
      "152/152 [==============================] - 1s 6ms/step - loss: 125195560.0000 - root_mean_squared_error: 11189.0820 - val_loss: 130265624.0000 - val_root_mean_squared_error: 11413.3965\n",
      "Epoch 8/50\n",
      "152/152 [==============================] - 1s 6ms/step - loss: 128504792.0000 - root_mean_squared_error: 11335.9951 - val_loss: 126303088.0000 - val_root_mean_squared_error: 11238.4639\n",
      "Epoch 9/50\n",
      "152/152 [==============================] - 1s 6ms/step - loss: 121651608.0000 - root_mean_squared_error: 11029.5781 - val_loss: 123291120.0000 - val_root_mean_squared_error: 11103.6533\n",
      "Epoch 10/50\n",
      "152/152 [==============================] - 1s 6ms/step - loss: 118168192.0000 - root_mean_squared_error: 10870.5176 - val_loss: 121570872.0000 - val_root_mean_squared_error: 11025.9180\n",
      "Epoch 11/50\n",
      "152/152 [==============================] - 1s 5ms/step - loss: 112296168.0000 - root_mean_squared_error: 10596.9873 - val_loss: 119151792.0000 - val_root_mean_squared_error: 10915.6650\n",
      "Epoch 12/50\n",
      "152/152 [==============================] - 1s 5ms/step - loss: 118225920.0000 - root_mean_squared_error: 10873.1738 - val_loss: 117986200.0000 - val_root_mean_squared_error: 10862.1436\n",
      "Epoch 13/50\n",
      "152/152 [==============================] - 1s 5ms/step - loss: 113634304.0000 - root_mean_squared_error: 10659.9385 - val_loss: 116371624.0000 - val_root_mean_squared_error: 10787.5674\n",
      "Epoch 14/50\n",
      "152/152 [==============================] - 1s 5ms/step - loss: 115639696.0000 - root_mean_squared_error: 10753.5889 - val_loss: 114995088.0000 - val_root_mean_squared_error: 10723.5752\n",
      "Epoch 15/50\n",
      "152/152 [==============================] - 1s 5ms/step - loss: 111470208.0000 - root_mean_squared_error: 10557.9453 - val_loss: 115503472.0000 - val_root_mean_squared_error: 10747.2539\n",
      "Epoch 16/50\n",
      "152/152 [==============================] - 1s 5ms/step - loss: 111238680.0000 - root_mean_squared_error: 10546.9727 - val_loss: 112730856.0000 - val_root_mean_squared_error: 10617.4775\n",
      "Epoch 17/50\n",
      "152/152 [==============================] - 1s 5ms/step - loss: 108518328.0000 - root_mean_squared_error: 10417.2119 - val_loss: 114393912.0000 - val_root_mean_squared_error: 10695.5078\n",
      "Epoch 18/50\n",
      "152/152 [==============================] - 1s 5ms/step - loss: 110708296.0000 - root_mean_squared_error: 10521.7998 - val_loss: 111104696.0000 - val_root_mean_squared_error: 10540.6201\n",
      "Epoch 19/50\n",
      "152/152 [==============================] - 1s 5ms/step - loss: 113697112.0000 - root_mean_squared_error: 10662.8848 - val_loss: 109986536.0000 - val_root_mean_squared_error: 10487.4463\n",
      "Epoch 20/50\n",
      "152/152 [==============================] - 1s 6ms/step - loss: 106159776.0000 - root_mean_squared_error: 10303.3848 - val_loss: 109620784.0000 - val_root_mean_squared_error: 10469.9941\n",
      "Epoch 21/50\n",
      "152/152 [==============================] - 1s 6ms/step - loss: 103876024.0000 - root_mean_squared_error: 10191.9580 - val_loss: 107676352.0000 - val_root_mean_squared_error: 10376.7207\n",
      "Epoch 22/50\n",
      "152/152 [==============================] - 1s 5ms/step - loss: 103767432.0000 - root_mean_squared_error: 10186.6289 - val_loss: 107518000.0000 - val_root_mean_squared_error: 10369.0889\n",
      "Epoch 23/50\n",
      "152/152 [==============================] - 1s 5ms/step - loss: 104495024.0000 - root_mean_squared_error: 10222.2803 - val_loss: 106540656.0000 - val_root_mean_squared_error: 10321.8535\n",
      "Epoch 24/50\n",
      "152/152 [==============================] - 1s 5ms/step - loss: 103733264.0000 - root_mean_squared_error: 10184.9512 - val_loss: 106663776.0000 - val_root_mean_squared_error: 10327.8135\n",
      "Epoch 25/50\n",
      "152/152 [==============================] - 1s 5ms/step - loss: 99797248.0000 - root_mean_squared_error: 9989.8564 - val_loss: 108477920.0000 - val_root_mean_squared_error: 10415.2725\n",
      "Epoch 26/50\n",
      "152/152 [==============================] - 1s 5ms/step - loss: 105126024.0000 - root_mean_squared_error: 10253.0977 - val_loss: 105793264.0000 - val_root_mean_squared_error: 10285.5840\n",
      "Epoch 27/50\n",
      "152/152 [==============================] - 1s 5ms/step - loss: 105546880.0000 - root_mean_squared_error: 10273.5986 - val_loss: 105840720.0000 - val_root_mean_squared_error: 10287.8896\n",
      "Epoch 28/50\n",
      "152/152 [==============================] - 1s 5ms/step - loss: 105161192.0000 - root_mean_squared_error: 10254.8115 - val_loss: 104467984.0000 - val_root_mean_squared_error: 10220.9561\n",
      "Epoch 29/50\n",
      "152/152 [==============================] - 1s 6ms/step - loss: 103279848.0000 - root_mean_squared_error: 10162.6680 - val_loss: 103039504.0000 - val_root_mean_squared_error: 10150.8359\n",
      "Epoch 30/50\n",
      "152/152 [==============================] - 1s 5ms/step - loss: 103554968.0000 - root_mean_squared_error: 10176.1943 - val_loss: 102410176.0000 - val_root_mean_squared_error: 10119.7891\n",
      "Epoch 31/50\n",
      "152/152 [==============================] - 1s 5ms/step - loss: 103565120.0000 - root_mean_squared_error: 10176.6943 - val_loss: 102507304.0000 - val_root_mean_squared_error: 10124.5879\n",
      "Epoch 32/50\n",
      "152/152 [==============================] - 1s 5ms/step - loss: 97569304.0000 - root_mean_squared_error: 9877.7168 - val_loss: 101732248.0000 - val_root_mean_squared_error: 10086.2393\n",
      "Epoch 33/50\n",
      "152/152 [==============================] - 1s 5ms/step - loss: 104745352.0000 - root_mean_squared_error: 10234.5156 - val_loss: 101126648.0000 - val_root_mean_squared_error: 10056.1738\n",
      "Epoch 34/50\n",
      "152/152 [==============================] - 1s 6ms/step - loss: 99412448.0000 - root_mean_squared_error: 9970.5791 - val_loss: 101470568.0000 - val_root_mean_squared_error: 10073.2588\n",
      "Epoch 35/50\n",
      "152/152 [==============================] - 1s 5ms/step - loss: 98994952.0000 - root_mean_squared_error: 9949.6191 - val_loss: 100358328.0000 - val_root_mean_squared_error: 10017.8994\n",
      "Epoch 36/50\n",
      "152/152 [==============================] - 1s 5ms/step - loss: 99797896.0000 - root_mean_squared_error: 9989.8877 - val_loss: 102148616.0000 - val_root_mean_squared_error: 10106.8594\n",
      "Epoch 37/50\n",
      "152/152 [==============================] - 1s 5ms/step - loss: 99580672.0000 - root_mean_squared_error: 9979.0098 - val_loss: 99736672.0000 - val_root_mean_squared_error: 9986.8242\n",
      "Epoch 38/50\n",
      "152/152 [==============================] - 1s 5ms/step - loss: 100233696.0000 - root_mean_squared_error: 10011.6758 - val_loss: 100167256.0000 - val_root_mean_squared_error: 10008.3574\n",
      "Epoch 39/50\n",
      "152/152 [==============================] - 1s 6ms/step - loss: 97287880.0000 - root_mean_squared_error: 9863.4580 - val_loss: 100106368.0000 - val_root_mean_squared_error: 10005.3164\n",
      "Epoch 40/50\n",
      "152/152 [==============================] - 1s 6ms/step - loss: 103967376.0000 - root_mean_squared_error: 10196.4385 - val_loss: 100733640.0000 - val_root_mean_squared_error: 10036.6143\n",
      "Epoch 41/50\n",
      "152/152 [==============================] - 1s 6ms/step - loss: 96428384.0000 - root_mean_squared_error: 9819.7939 - val_loss: 101184880.0000 - val_root_mean_squared_error: 10059.0684\n",
      "Epoch 42/50\n",
      "152/152 [==============================] - 1s 5ms/step - loss: 95904304.0000 - root_mean_squared_error: 9793.0723 - val_loss: 99728808.0000 - val_root_mean_squared_error: 9986.4297\n"
     ]
    },
    {
     "name": "stdout",
     "output_type": "stream",
     "text": [
      "Epoch 43/50\n",
      "152/152 [==============================] - 1s 6ms/step - loss: 101328272.0000 - root_mean_squared_error: 10066.1934 - val_loss: 99956312.0000 - val_root_mean_squared_error: 9997.8145\n",
      "Epoch 44/50\n",
      "152/152 [==============================] - 1s 6ms/step - loss: 96581624.0000 - root_mean_squared_error: 9827.5928 - val_loss: 102017512.0000 - val_root_mean_squared_error: 10100.3701\n",
      "Epoch 45/50\n",
      "152/152 [==============================] - 1s 5ms/step - loss: 104717064.0000 - root_mean_squared_error: 10233.1328 - val_loss: 99616920.0000 - val_root_mean_squared_error: 9980.8252\n",
      "Epoch 46/50\n",
      "152/152 [==============================] - 1s 6ms/step - loss: 100094456.0000 - root_mean_squared_error: 10004.7197 - val_loss: 97434240.0000 - val_root_mean_squared_error: 9870.8760\n",
      "Epoch 47/50\n",
      "152/152 [==============================] - 1s 6ms/step - loss: 98230736.0000 - root_mean_squared_error: 9911.1406 - val_loss: 97513288.0000 - val_root_mean_squared_error: 9874.8799\n",
      "Epoch 48/50\n",
      "152/152 [==============================] - 1s 6ms/step - loss: 102638800.0000 - root_mean_squared_error: 10131.0801 - val_loss: 97627160.0000 - val_root_mean_squared_error: 9880.6436\n",
      "Epoch 49/50\n",
      "152/152 [==============================] - 1s 6ms/step - loss: 104010520.0000 - root_mean_squared_error: 10198.5518 - val_loss: 98966808.0000 - val_root_mean_squared_error: 9948.2051\n",
      "Epoch 50/50\n",
      "152/152 [==============================] - 1s 6ms/step - loss: 95672808.0000 - root_mean_squared_error: 9781.2461 - val_loss: 97105680.0000 - val_root_mean_squared_error: 9854.2207\n"
     ]
    }
   ],
   "source": [
    "# Optimizer: Adam \n",
    "# Activation: Relu\n",
    "# To reduce Overfitting : L2 Regularizers and DropOut\n",
    "# Metrics : RMSE\n",
    "\n",
    "network1 = models.Sequential([\n",
    "    Dense(100, activation='relu', input_shape=(5,)),\n",
    "    Dropout(0.3),\n",
    "    Dense(100, activation='relu', kernel_regularizer=regularizers.l2(0.01)),\n",
    "    Dropout(0.3),\n",
    "    Dense(100, activation='relu', kernel_regularizer=regularizers.l2(0.01)),\n",
    "    Dropout(0.3),\n",
    "    Dense(100, activation='relu', kernel_regularizer=regularizers.l2(0.01)),\n",
    "    Dropout(0.3),\n",
    "    Dense(1, activation='relu', kernel_regularizer=regularizers.l2(0.01))\n",
    "])\n",
    "\n",
    "network1.compile(optimizer='adam', loss='MeanSquaredError', metrics=['RootMeanSquaredError'])\n",
    "\n",
    "# Training \n",
    "n_epochs =50 # the maximum number of steps in a epoch\n",
    "result1 = network1.fit(training_inputs, training_outputs,epochs = n_epochs, batch_size = 128,\n",
    "                     validation_data=(validation_inputs,validation_outputs))"
   ]
  },
  {
   "cell_type": "markdown",
   "id": "c16d40b8",
   "metadata": {},
   "source": [
    "## MODEL EVALUATION\n",
    "\n",
    "### Mean Squared Error:\n"
   ]
  },
  {
   "cell_type": "code",
   "execution_count": 24,
   "id": "56c1e667",
   "metadata": {
    "scrolled": true
   },
   "outputs": [
    {
     "name": "stdout",
     "output_type": "stream",
     "text": [
      "304/304 [==============================] - 0s 1ms/step\n",
      "Percentage test error = 42.35%\n"
     ]
    }
   ],
   "source": [
    "testing_predictions = network1.predict(testing_inputs)\n",
    "testing_error = mean_squared_error(testing_outputs, testing_predictions, squared=False)\n",
    "print('Percentage test error = {:.2f}%'.format(100*testing_error/average_price))"
   ]
  },
  {
   "cell_type": "markdown",
   "id": "199069cb",
   "metadata": {},
   "source": [
    "### Accuracy using R2 Score:"
   ]
  },
  {
   "cell_type": "code",
   "execution_count": 41,
   "id": "c4c6d9e9",
   "metadata": {},
   "outputs": [
    {
     "data": {
      "text/plain": [
       "0.8362211316675321"
      ]
     },
     "execution_count": 41,
     "metadata": {},
     "output_type": "execute_result"
    }
   ],
   "source": [
    "(r2_score(testing_outputs, testing_predictions))"
   ]
  },
  {
   "cell_type": "markdown",
   "id": "7ebb358f",
   "metadata": {},
   "source": [
    "##  DATA VISUALIZATION"
   ]
  },
  {
   "cell_type": "code",
   "execution_count": 26,
   "id": "293168fa",
   "metadata": {},
   "outputs": [
    {
     "name": "stdout",
     "output_type": "stream",
     "text": [
      "dict_keys(['loss', 'root_mean_squared_error', 'val_loss', 'val_root_mean_squared_error'])\n"
     ]
    }
   ],
   "source": [
    "history_dict = result1.history\n",
    "print(history_dict.keys())"
   ]
  },
  {
   "cell_type": "markdown",
   "id": "613e63c4",
   "metadata": {},
   "source": [
    "### Validation Data Loss Plot:"
   ]
  },
  {
   "cell_type": "code",
   "execution_count": 42,
   "id": "69db23d3",
   "metadata": {},
   "outputs": [
    {
     "data": {
      "image/png": "[encoded data removed]",
      "text/plain": [
       "<Figure size 640x480 with 1 Axes>"
      ]
     },
     "metadata": {},
     "output_type": "display_data"
    }
   ],
   "source": [
    "plt.plot(result1.history['loss'])\n",
    "plt.plot(result1.history['val_loss'])\n",
    "plt.title('MSE')\n",
    "plt.ylabel('Loss')\n",
    "plt.xlabel('Epoch')\n",
    "plt.legend(['Train', 'Val'], loc='upper right')\n",
    "plt.show()\n"
   ]
  },
  {
   "cell_type": "markdown",
   "id": "fe43ab6c",
   "metadata": {},
   "source": [
    "### Root Mean Square Error Plot:"
   ]
  },
  {
   "cell_type": "code",
   "execution_count": 28,
   "id": "92d2a05f",
   "metadata": {},
   "outputs": [
    {
     "data": {
      "image/png": "[encoded data removed]",
      "text/plain": [
       "<Figure size 640x480 with 1 Axes>"
      ]
     },
     "metadata": {},
     "output_type": "display_data"
    }
   ],
   "source": [
    "plt.plot(result1.history['root_mean_squared_error'])\n",
    "plt.plot(result1.history['val_root_mean_squared_error'])\n",
    "plt.title('Model RMSE')\n",
    "plt.ylabel('Error')\n",
    "plt.xlabel('Epoch')\n",
    "plt.legend(['Train', 'Val'], loc='lower right')\n",
    "plt.show()"
   ]
  },
  {
   "cell_type": "markdown",
   "id": "a5e0853c",
   "metadata": {},
   "source": [
    "## Saving the Model:"
   ]
  },
  {
   "cell_type": "code",
   "execution_count": 31,
   "id": "0b5ae759",
   "metadata": {},
   "outputs": [
    {
     "name": "stderr",
     "output_type": "stream",
     "text": [
      "WARNING:absl:Found untraced functions such as _update_step_xla while saving (showing 1 of 1). These functions will not be directly callable after loading.\n"
     ]
    },
    {
     "name": "stdout",
     "output_type": "stream",
     "text": [
      "INFO:tensorflow:Assets written to: Final_Model.py\\assets\n"
     ]
    },
    {
     "name": "stderr",
     "output_type": "stream",
     "text": [
      "INFO:tensorflow:Assets written to: Final_Model.py\\assets\n"
     ]
    }
   ],
   "source": [
    "network1.save('Final_Model.py')"
   ]
  },
  {
   "cell_type": "markdown",
   "id": "fc25f195",
   "metadata": {},
   "source": [
    "## To load the Saved Model"
   ]
  },
  {
   "cell_type": "code",
   "execution_count": 34,
   "id": "50790405",
   "metadata": {},
   "outputs": [],
   "source": [
    "new_model = tf.keras.models.load_model('Final_Model.py')"
   ]
  }
 ],
 "metadata": {
  "kernelspec": {
   "display_name": "Python 3 (ipykernel)",
   "language": "python",
   "name": "python3"
  },
  "language_info": {
   "codemirror_mode": {
    "name": "ipython",
    "version": 3
   },
   "file_extension": ".py",
   "mimetype": "text/x-python",
   "name": "python",
   "nbconvert_exporter": "python",
   "pygments_lexer": "ipython3",
   "version": "3.10.8"
  }
 },
 "nbformat": 4,
 "nbformat_minor": 5
}
